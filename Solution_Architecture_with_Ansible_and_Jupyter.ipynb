{
 "cells": [
  {
   "cell_type": "markdown",
   "metadata": {},
   "source": [
    "# Ansible: Getting Started in a Jupyter Notebook\n",
    "A Jupyter Notebook to follow along while reading \"Ansible: Up and Running\", 2nd Edition,  \n",
    "Lorin Hochstein, Rene Moser  \n",
    "http://shop.oreilly.com/product/0636920065500.do  \n",
    "Publisher: O'Reilly Media, Inc.  Release Date: August 2017  ISBN: 9781491979808\n",
    "\n",
    "Remote machines of interest to the control machine:  \n",
    "<img src=\"w530_aur_components.png\"</>"
   ]
  },
  {
   "cell_type": "markdown",
   "metadata": {},
   "source": [
    "## Ansible Control Machine: what is the execution context?  \n",
    "```subprocess.check_output()``` from page 546  \n",
    "\"Python Cookbook\" 3rd Edition, David Beazley and Brian K. Jones, 2013,  \n",
    "O'Reily media, ISBN 978-1-4493-4037-7, http://www.dabeaz.com/cookbook.html"
   ]
  },
  {
   "cell_type": "code",
   "execution_count": 1,
   "metadata": {},
   "outputs": [
    {
     "name": "stdout",
     "output_type": "stream",
     "text": [
      " Python:  3.6.0 |Anaconda custom (x86_64)|\n",
      "  macOS:  10.12.6\n",
      "Ansible:  2.3.2.0\n"
     ]
    }
   ],
   "source": [
    "import sys, platform, subprocess\n",
    "ansibleVersion = subprocess.check_output(['ansible', '--version']).decode('utf-8').split()[1]\n",
    "print(   f\" Python:  {' '.join(sys.version.split()[0:4])}\\n\"  # Not the version of Pythone used by Ansible.\n",
    "         f'  macOS:  {platform.mac_ver()[0]}\\n'               # Control machine operatings sysrtem.\n",
    "         f\"Ansible:  {subprocess.check_output(['ansible', '--version']).decode('utf-8').split()[1]}\")"
   ]
  },
  {
   "cell_type": "markdown",
   "metadata": {},
   "source": [
    "### View of the network, private, from /etc/hosts  \n",
    "(/etc/hosts display truncated to avoid line wrap)"
   ]
  },
  {
   "cell_type": "code",
   "execution_count": 2,
   "metadata": {},
   "outputs": [
    {
     "name": "stdout",
     "output_type": "stream",
     "text": [
      "    74\t# 31Aug17R letc strata 13 aur “Ansible Up and Running” examples, hm17\r\n",
      "    75\t#---+---10----+---20----+---30----+---40----+---50----+---60----+---70----+---80----+---90---\r\n",
      "    76\t# IPv4           hostname FQDN                      hstnm short   alias   comment\r\n",
      "    77\t#--------------  ---------------------------------  ------------  ------  -------------------\r\n",
      "    84\t     10.0.0.123           aur123.letc.chrsclrk.com  aur123        j123    # 31Aug17R ESXi MAC\r\n",
      "    85\t     10.0.0.122           aur122.letc.chrsclrk.com  aur122        j122    # 31Aug17R ESXi MAC\r\n",
      "    86\t     10.0.0.121           aur121.letc.chrsclrk.com  aur121        j121    # 31Aug17R ESXi MAC\r\n"
     ]
    }
   ],
   "source": [
    "! nl -b a /etc/hosts | sed -n '74,77p;84,86p' | cut -c 1-100"
   ]
  },
  {
   "cell_type": "markdown",
   "metadata": {},
   "source": [
    "## Review of control machine's Ansible configuration  \n",
    "Let the Jupyter notebook know where to find files."
   ]
  },
  {
   "cell_type": "code",
   "execution_count": 3,
   "metadata": {},
   "outputs": [
    {
     "name": "stdout",
     "output_type": "stream",
     "text": [
      "/Users/chrsclrk/Google Drive/solutionArchitect/automation\n"
     ]
    }
   ],
   "source": [
    "%cd '/Users/chrsclrk/Google Drive/solutionArchitect/automation' "
   ]
  },
  {
   "cell_type": "markdown",
   "metadata": {},
   "source": [
    "### Note use of group \"aur\" to provide value for \"become\" password.  "
   ]
  },
  {
   "cell_type": "code",
   "execution_count": 4,
   "metadata": {},
   "outputs": [
    {
     "name": "stdout",
     "output_type": "stream",
     "text": [
      "*** inventory.ini contents ***\r\n",
      "     1\t[aur]\r\n",
      "     2\tj120  ansible_host=aur120.letc.chrsclrk.com  ansible_port=22  ansible_user=virtuser \r\n",
      "     3\tj122  ansible_host=aur122.letc.chrsclrk.com  ansible_port=22  ansible_user=virtuser\r\n",
      "     4\tj123  ansible_host=aur123.letc.chrsclrk.com  ansible_port=22  ansible_user=virtuser\r\n",
      "     5\t\r\n",
      "     6\t[aur:vars]\r\n",
      "     7\t# ansible_become_pass=<password vault is a better approach>\r\n"
     ]
    }
   ],
   "source": [
    "! echo \"*** inventory.ini contents ***\" ; nl -ba controlMachine/inventory.ini | sed -n '1,7p'"
   ]
  },
  {
   "cell_type": "code",
   "execution_count": 5,
   "metadata": {},
   "outputs": [
    {
     "name": "stdout",
     "output_type": "stream",
     "text": [
      "*** ansible.cfg contents ***\r\n",
      "[defaults]\r\n",
      "private_key_file=/Users/chrsclrk/.ssh/c6k\r\n",
      "host_key_checking = False\r\n",
      "# From http://ansible-docs.readthedocs.io/zh/stable-2.0/rst/intro_configuration.html#ansible-managed\r\n",
      "ansible_managed = Ansible ma:wnaged: {file:} modified on %Y-%m-%d %H:%M:%S by {uid} on {host}\r\n"
     ]
    }
   ],
   "source": [
    "! echo \"*** ansible.cfg contents ***\" ; cat /Users/chrsclrk/.ansible.cfg"
   ]
  },
  {
   "cell_type": "markdown",
   "metadata": {},
   "source": [
    "### is the control machine able to reach the remote machines?\n",
    "Ansilble module, ping, replies with the string \"ping\" the control machine successfully connects with the host in the group aur."
   ]
  },
  {
   "cell_type": "code",
   "execution_count": 6,
   "metadata": {},
   "outputs": [
    {
     "name": "stdout",
     "output_type": "stream",
     "text": [
      "\u001b[0;32mj120 | SUCCESS => {\u001b[0m\n",
      "\u001b[0;32m    \"changed\": false, \u001b[0m\n",
      "\u001b[0;32m    \"ping\": \"pong\"\u001b[0m\n",
      "\u001b[0;32m}\u001b[0m\n",
      "\u001b[0;32mj123 | SUCCESS => {\u001b[0m\n",
      "\u001b[0;32m    \"changed\": false, \u001b[0m\n",
      "\u001b[0;32m    \"ping\": \"pong\"\u001b[0m\n",
      "\u001b[0;32m}\u001b[0m\n",
      "\u001b[0;32mj122 | SUCCESS => {\u001b[0m\n",
      "\u001b[0;32m    \"changed\": false, \u001b[0m\n",
      "\u001b[0;32m    \"ping\": \"pong\"\u001b[0m\n",
      "\u001b[0;32m}\u001b[0m\n"
     ]
    }
   ],
   "source": [
    "!ansible aur --inventory=controlMachine/inventory.ini --module-name=ping"
   ]
  },
  {
   "cell_type": "markdown",
   "metadata": {},
   "source": [
    "#### Here Ansible runs a program on the remote machines.\n",
    "*  connectivity is established\n",
    "*  uptime for the remote machines may be of interest than the string \"pong\"."
   ]
  },
  {
   "cell_type": "code",
   "execution_count": 7,
   "metadata": {
    "scrolled": true
   },
   "outputs": [
    {
     "name": "stdout",
     "output_type": "stream",
     "text": [
      "\u001b[0;32mj122 | SUCCESS | rc=0 >>\u001b[0m\r\n",
      "\u001b[0;32m 17:58:49 up 6 days,  1:07,  1 user,  load average: 0.00, 0.01, 0.05\u001b[0m\r\n",
      "\u001b[0;32m\u001b[0m\r\n",
      "\u001b[0;32mj120 | SUCCESS | rc=0 >>\u001b[0m\r\n",
      "\u001b[0;32m 17:58:49 up 11 days,  1:43,  1 user,  load average: 0.00, 0.01, 0.05\u001b[0m\r\n",
      "\u001b[0;32m\u001b[0m\r\n",
      "\u001b[0;32mj123 | SUCCESS | rc=0 >>\u001b[0m\r\n",
      "\u001b[0;32m 17:58:49 up 10 days, 21:49,  1 user,  load average: 0.03, 0.02, 0.05\u001b[0m\r\n",
      "\u001b[0;32m\u001b[0m\r\n"
     ]
    }
   ],
   "source": [
    "!ansible aur --inventory=controlMachine/inventory.ini --module-name=command --args=uptime"
   ]
  },
  {
   "cell_type": "markdown",
   "metadata": {},
   "source": [
    "### Ansible's \"setup\" module; all it knows about a target machine\n",
    "When Ansible's connects to a target machine it collects information as part of its setup.  \n",
    "The resulting data structure is collectively referred to as facts."
   ]
  },
  {
   "cell_type": "code",
   "execution_count": 8,
   "metadata": {},
   "outputs": [
    {
     "name": "stdout",
     "output_type": "stream",
     "text": [
      "                               433  Metric of setup results; length of Jupyter reference to saved setup results.\n",
      "<class 'IPython.utils.text.SList'>  Type of Jupyter reference to save results.\n"
     ]
    }
   ],
   "source": [
    "oneSetup = !ansible aur[0] --inventory=controlMachine/inventory.ini --module-name=setup\n",
    "print(f'{len(oneSetup):>34}  Metric of setup results; length of Jupyter reference to saved setup results.\\n'\n",
    "      f'{type(oneSetup)}  Type of Jupyter reference to save results.')"
   ]
  },
  {
   "cell_type": "code",
   "execution_count": 9,
   "metadata": {},
   "outputs": [
    {
     "data": {
      "text/plain": [
       "['j120 | SUCCESS => {',\n",
       " '    \"ansible_facts\": {',\n",
       " '        \"ansible_all_ipv4_addresses\": [',\n",
       " '            \"10.0.0.120\"',\n",
       " '        ], ',\n",
       " '        \"ansible_all_ipv6_addresses\": [',\n",
       " '            \"2601:240:8001:d6c0::18\", ',\n",
       " '            \"2601:240:8001:d6c0:250:56ff:fe39:e348\", ',\n",
       " '            \"fe80::250:56ff:fe39:e348\"',\n",
       " '        ], ',\n",
       " '        \"ansible_apparmor\": {',\n",
       " '            \"status\": \"disabled\"',\n",
       " '        }, ',\n",
       " '        \"ansible_architecture\": \"x86_64\", ',\n",
       " '        \"ansible_bios_date\": \"09/21/2015\", ',\n",
       " '        \"ansible_bios_version\": \"6.00\", ',\n",
       " '        \"ansible_cmdline\": {',\n",
       " '            \"BOOT_IMAGE\": \"/vmlinuz-3.10.0-327.el7.x86_64\", ',\n",
       " '            \"LANG\": \"en_US.UTF-8\", ',\n",
       " '            \"crashkernel\": \"auto\", ',\n",
       " '            \"quiet\": true, ',\n",
       " '            \"rd.lvm.lv\": \"centos/swap\", ',\n",
       " '            \"rhgb\": true, ',\n",
       " '            \"ro\": true, ',\n",
       " '            \"root\": \"/dev/mapper/centos-root\"',\n",
       " '        }, ',\n",
       " '        \"ansible_date_time\": {',\n",
       " '            \"date\": \"2017-09-11\", ',\n",
       " '            \"day\": \"11\", ',\n",
       " '            \"epoch\": \"1505152736\", ',\n",
       " '            \"hour\": \"17\", ',\n",
       " '            \"iso8601\": \"2017-09-11T17:58:56Z\", ',\n",
       " '            \"iso8601_basic\": \"20170911T175856666435\", ',\n",
       " '            \"iso8601_basic_short\": \"20170911T175856\", ',\n",
       " '            \"iso8601_micro\": \"2017-09-11T17:58:56.666517Z\", ',\n",
       " '            \"minute\": \"58\", ',\n",
       " '            \"month\": \"09\", ',\n",
       " '            \"second\": \"56\", ',\n",
       " '            \"time\": \"17:58:56\", ',\n",
       " '            \"tz\": \"GMT\", ',\n",
       " '            \"tz_offset\": \"+0000\", ',\n",
       " '            \"weekday\": \"Monday\", ',\n",
       " '            \"weekday_number\": \"1\", ',\n",
       " '            \"weeknumber\": \"37\", ',\n",
       " '            \"year\": \"2017\"',\n",
       " '        }, ',\n",
       " '        \"ansible_default_ipv4\": {',\n",
       " '            \"address\": \"10.0.0.120\", ',\n",
       " '            \"alias\": \"eno16777728\", ',\n",
       " '            \"broadcast\": \"10.0.0.255\", ',\n",
       " '            \"gateway\": \"10.0.0.1\", ',\n",
       " '            \"interface\": \"eno16777728\", ',\n",
       " '            \"macaddress\": \"00:50:56:39:e3:48\", ',\n",
       " '            \"mtu\": 1500, ',\n",
       " '            \"netmask\": \"255.255.255.0\", ',\n",
       " '            \"network\": \"10.0.0.0\", ',\n",
       " '            \"type\": \"ether\"',\n",
       " '        }, ',\n",
       " '        \"ansible_default_ipv6\": {',\n",
       " '            \"address\": \"2601:240:8001:d6c0::18\", ',\n",
       " '            \"gateway\": \"fe80::4632:c8ff:fe59:e3bb\", ',\n",
       " '            \"interface\": \"eno16777728\", ',\n",
       " '            \"macaddress\": \"00:50:56:39:e3:48\", ',\n",
       " '            \"mtu\": 1500, ',\n",
       " '            \"prefix\": \"128\", ',\n",
       " '            \"scope\": \"global\", ',\n",
       " '            \"type\": \"ether\"',\n",
       " '        }, ',\n",
       " '        \"ansible_devices\": {',\n",
       " '            \"sda\": {',\n",
       " '                \"holders\": [], ',\n",
       " '                \"host\": \"SCSI storage controller: LSI Logic / Symbios Logic 53c1030 PCI-X Fusion-MPT Dual Ultra320 SCSI (rev 01)\", ',\n",
       " '                \"model\": \"Virtual disk\", ',\n",
       " '                \"partitions\": {',\n",
       " '                    \"sda1\": {',\n",
       " '                        \"holders\": [], ',\n",
       " '                        \"sectors\": \"1024000\", ',\n",
       " '                        \"sectorsize\": 512, ',\n",
       " '                        \"size\": \"500.00 MB\", ',\n",
       " '                        \"start\": \"2048\", ',\n",
       " '                        \"uuid\": \"e35ce880-7993-481c-a2eb-63c7bbf64709\"',\n",
       " '                    }, ',\n",
       " '                    \"sda2\": {',\n",
       " '                        \"holders\": [',\n",
       " '                            \"centos-root\", ',\n",
       " '                            \"centos-swap\"',\n",
       " '                        ], ',\n",
       " '                        \"sectors\": \"32528384\", ',\n",
       " '                        \"sectorsize\": 512, ',\n",
       " '                        \"size\": \"15.51 GB\", ',\n",
       " '                        \"start\": \"1026048\", ',\n",
       " '                        \"uuid\": null',\n",
       " '                    }',\n",
       " '                }, ',\n",
       " '                \"removable\": \"0\", ',\n",
       " '                \"rotational\": \"1\", ',\n",
       " '                \"sas_address\": null, ',\n",
       " '                \"sas_device_handle\": null, ',\n",
       " '                \"scheduler_mode\": \"deadline\", ',\n",
       " '                \"sectors\": \"33554432\", ',\n",
       " '                \"sectorsize\": \"512\", ',\n",
       " '                \"size\": \"16.00 GB\", ',\n",
       " '                \"support_discard\": \"0\", ',\n",
       " '                \"vendor\": \"VMware\"',\n",
       " '            }, ',\n",
       " '            \"sr0\": {',\n",
       " '                \"holders\": [], ',\n",
       " '                \"host\": \"IDE interface: Intel Corporation 82371AB/EB/MB PIIX4 IDE (rev 01)\", ',\n",
       " '                \"model\": \"VMware IDE CDR10\", ',\n",
       " '                \"partitions\": {}, ',\n",
       " '                \"removable\": \"1\", ',\n",
       " '                \"rotational\": \"1\", ',\n",
       " '                \"sas_address\": null, ',\n",
       " '                \"sas_device_handle\": null, ',\n",
       " '                \"scheduler_mode\": \"cfq\", ',\n",
       " '                \"sectors\": \"2097151\", ',\n",
       " '                \"sectorsize\": \"512\", ',\n",
       " '                \"size\": \"1024.00 MB\", ',\n",
       " '                \"support_discard\": \"0\", ',\n",
       " '                \"vendor\": \"NECVMWar\"',\n",
       " '            }',\n",
       " '        }, ',\n",
       " '        \"ansible_distribution\": \"CentOS\", ',\n",
       " '        \"ansible_distribution_major_version\": \"7\", ',\n",
       " '        \"ansible_distribution_release\": \"Core\", ',\n",
       " '        \"ansible_distribution_version\": \"7.3.1611\", ',\n",
       " '        \"ansible_dns\": {',\n",
       " '            \"nameservers\": [',\n",
       " '                \"75.75.75.75\", ',\n",
       " '                \"75.75.76.76\", ',\n",
       " '                \"2001:558:feed::1\", ',\n",
       " '                \"2001:558:feed::2\"',\n",
       " '            ], ',\n",
       " '            \"search\": [',\n",
       " '                \"letc.chrsclrk.com\"',\n",
       " '            ]',\n",
       " '        }, ',\n",
       " '        \"ansible_domain\": \"letc.chrsclrk.com\", ',\n",
       " '        \"ansible_effective_group_id\": 1000, ',\n",
       " '        \"ansible_effective_user_id\": 1000, ',\n",
       " '        \"ansible_eno16777728\": {',\n",
       " '            \"active\": true, ',\n",
       " '            \"device\": \"eno16777728\", ',\n",
       " '            \"features\": {',\n",
       " '                \"busy_poll\": \"off [fixed]\", ',\n",
       " '                \"fcoe_mtu\": \"off [fixed]\", ',\n",
       " '                \"generic_receive_offload\": \"on\", ',\n",
       " '                \"generic_segmentation_offload\": \"on\", ',\n",
       " '                \"highdma\": \"off [fixed]\", ',\n",
       " '                \"large_receive_offload\": \"off [fixed]\", ',\n",
       " '                \"loopback\": \"off [fixed]\", ',\n",
       " '                \"netns_local\": \"off [fixed]\", ',\n",
       " '                \"ntuple_filters\": \"off [fixed]\", ',\n",
       " '                \"receive_hashing\": \"off [fixed]\", ',\n",
       " '                \"rx_all\": \"off\", ',\n",
       " '                \"rx_checksumming\": \"off\", ',\n",
       " '                \"rx_fcs\": \"off\", ',\n",
       " '                \"rx_vlan_filter\": \"on [fixed]\", ',\n",
       " '                \"rx_vlan_offload\": \"on\", ',\n",
       " '                \"rx_vlan_stag_filter\": \"off [fixed]\", ',\n",
       " '                \"rx_vlan_stag_hw_parse\": \"off [fixed]\", ',\n",
       " '                \"scatter_gather\": \"on\", ',\n",
       " '                \"tcp_segmentation_offload\": \"on\", ',\n",
       " '                \"tx_checksum_fcoe_crc\": \"off [fixed]\", ',\n",
       " '                \"tx_checksum_ip_generic\": \"on\", ',\n",
       " '                \"tx_checksum_ipv4\": \"off [fixed]\", ',\n",
       " '                \"tx_checksum_ipv6\": \"off [fixed]\", ',\n",
       " '                \"tx_checksum_sctp\": \"off [fixed]\", ',\n",
       " '                \"tx_checksumming\": \"on\", ',\n",
       " '                \"tx_fcoe_segmentation\": \"off [fixed]\", ',\n",
       " '                \"tx_gre_segmentation\": \"off [fixed]\", ',\n",
       " '                \"tx_gso_robust\": \"off [fixed]\", ',\n",
       " '                \"tx_ipip_segmentation\": \"off [fixed]\", ',\n",
       " '                \"tx_lockless\": \"off [fixed]\", ',\n",
       " '                \"tx_mpls_segmentation\": \"off [fixed]\", ',\n",
       " '                \"tx_nocache_copy\": \"off\", ',\n",
       " '                \"tx_scatter_gather\": \"on\", ',\n",
       " '                \"tx_scatter_gather_fraglist\": \"off [fixed]\", ',\n",
       " '                \"tx_sit_segmentation\": \"off [fixed]\", ',\n",
       " '                \"tx_tcp6_segmentation\": \"off [fixed]\", ',\n",
       " '                \"tx_tcp_ecn_segmentation\": \"off [fixed]\", ',\n",
       " '                \"tx_tcp_segmentation\": \"on\", ',\n",
       " '                \"tx_udp_tnl_segmentation\": \"off [fixed]\", ',\n",
       " '                \"tx_vlan_offload\": \"on [fixed]\", ',\n",
       " '                \"tx_vlan_stag_hw_insert\": \"off [fixed]\", ',\n",
       " '                \"udp_fragmentation_offload\": \"off [fixed]\", ',\n",
       " '                \"vlan_challenged\": \"off [fixed]\"',\n",
       " '            }, ',\n",
       " '            \"ipv4\": {',\n",
       " '                \"address\": \"10.0.0.120\", ',\n",
       " '                \"broadcast\": \"10.0.0.255\", ',\n",
       " '                \"netmask\": \"255.255.255.0\", ',\n",
       " '                \"network\": \"10.0.0.0\"',\n",
       " '            }, ',\n",
       " '            \"ipv6\": [',\n",
       " '                {',\n",
       " '                    \"address\": \"2601:240:8001:d6c0::18\", ',\n",
       " '                    \"prefix\": \"128\", ',\n",
       " '                    \"scope\": \"global\"',\n",
       " '                }, ',\n",
       " '                {',\n",
       " '                    \"address\": \"2601:240:8001:d6c0:250:56ff:fe39:e348\", ',\n",
       " '                    \"prefix\": \"64\", ',\n",
       " '                    \"scope\": \"global\"',\n",
       " '                }, ',\n",
       " '                {',\n",
       " '                    \"address\": \"fe80::250:56ff:fe39:e348\", ',\n",
       " '                    \"prefix\": \"64\", ',\n",
       " '                    \"scope\": \"link\"',\n",
       " '                }',\n",
       " '            ], ',\n",
       " '            \"macaddress\": \"00:50:56:39:e3:48\", ',\n",
       " '            \"module\": \"e1000\", ',\n",
       " '            \"mtu\": 1500, ',\n",
       " '            \"pciid\": \"0000:02:00.0\", ',\n",
       " '            \"promisc\": false, ',\n",
       " '            \"speed\": 1000, ',\n",
       " '            \"type\": \"ether\"',\n",
       " '        }, ',\n",
       " '        \"ansible_env\": {',\n",
       " '            \"HOME\": \"/home/virtuser\", ',\n",
       " '            \"LANG\": \"en_US.UTF-8\", ',\n",
       " '            \"LESSOPEN\": \"||/usr/bin/lesspipe.sh %s\", ',\n",
       " '            \"LOGNAME\": \"virtuser\", ',\n",
       " '            \"LS_COLORS\": \"rs=0:di=01;34:ln=01;36:mh=00:pi=40;33:so=01;35:do=01;35:bd=40;33;01:cd=40;33;01:or=40;31;01:mi=01;05;37;41:su=37;41:sg=30;43:ca=30;41:tw=30;42:ow=34;42:st=37;44:ex=01;32:*.tar=01;31:*.tgz=01;31:*.arc=01;31:*.arj=01;31:*.taz=01;31:*.lha=01;31:*.lz4=01;31:*.lzh=01;31:*.lzma=01;31:*.tlz=01;31:*.txz=01;31:*.tzo=01;31:*.t7z=01;31:*.zip=01;31:*.z=01;31:*.Z=01;31:*.dz=01;31:*.gz=01;31:*.lrz=01;31:*.lz=01;31:*.lzo=01;31:*.xz=01;31:*.bz2=01;31:*.bz=01;31:*.tbz=01;31:*.tbz2=01;31:*.tz=01;31:*.deb=01;31:*.rpm=01;31:*.jar=01;31:*.war=01;31:*.ear=01;31:*.sar=01;31:*.rar=01;31:*.alz=01;31:*.ace=01;31:*.zoo=01;31:*.cpio=01;31:*.7z=01;31:*.rz=01;31:*.cab=01;31:*.jpg=01;35:*.jpeg=01;35:*.gif=01;35:*.bmp=01;35:*.pbm=01;35:*.pgm=01;35:*.ppm=01;35:*.tga=01;35:*.xbm=01;35:*.xpm=01;35:*.tif=01;35:*.tiff=01;35:*.png=01;35:*.svg=01;35:*.svgz=01;35:*.mng=01;35:*.pcx=01;35:*.mov=01;35:*.mpg=01;35:*.mpeg=01;35:*.m2v=01;35:*.mkv=01;35:*.webm=01;35:*.ogm=01;35:*.mp4=01;35:*.m4v=01;35:*.mp4v=01;35:*.vob=01;35:*.qt=01;35:*.nuv=01;35:*.wmv=01;35:*.asf=01;35:*.rm=01;35:*.rmvb=01;35:*.flc=01;35:*.avi=01;35:*.fli=01;35:*.flv=01;35:*.gl=01;35:*.dl=01;35:*.xcf=01;35:*.xwd=01;35:*.yuv=01;35:*.cgm=01;35:*.emf=01;35:*.axv=01;35:*.anx=01;35:*.ogv=01;35:*.ogx=01;35:*.aac=01;36:*.au=01;36:*.flac=01;36:*.mid=01;36:*.midi=01;36:*.mka=01;36:*.mp3=01;36:*.mpc=01;36:*.ogg=01;36:*.ra=01;36:*.wav=01;36:*.axa=01;36:*.oga=01;36:*.spx=01;36:*.xspf=01;36:\", ',\n",
       " '            \"MAIL\": \"/var/mail/virtuser\", ',\n",
       " '            \"PATH\": \"/usr/local/bin:/usr/bin\", ',\n",
       " '            \"PWD\": \"/home/virtuser\", ',\n",
       " '            \"SELINUX_LEVEL_REQUESTED\": \"\", ',\n",
       " '            \"SELINUX_ROLE_REQUESTED\": \"\", ',\n",
       " '            \"SELINUX_USE_CURRENT_RANGE\": \"\", ',\n",
       " '            \"SHELL\": \"/bin/bash\", ',\n",
       " '            \"SHLVL\": \"2\", ',\n",
       " '            \"SSH_CLIENT\": \"10.0.0.216 59282 22\", ',\n",
       " '            \"SSH_CONNECTION\": \"10.0.0.216 59282 10.0.0.120 22\", ',\n",
       " '            \"SSH_TTY\": \"/dev/pts/0\", ',\n",
       " '            \"TERM\": \"xterm-color\", ',\n",
       " '            \"USER\": \"virtuser\", ',\n",
       " '            \"XDG_RUNTIME_DIR\": \"/run/user/1000\", ',\n",
       " '            \"XDG_SESSION_ID\": \"456\", ',\n",
       " '            \"_\": \"/usr/bin/python\"',\n",
       " '        }, ',\n",
       " '        \"ansible_fips\": false, ',\n",
       " '        \"ansible_form_factor\": \"Other\", ',\n",
       " '        \"ansible_fqdn\": \"aur120.letc.chrsclrk.com\", ',\n",
       " '        \"ansible_gather_subset\": [',\n",
       " '            \"hardware\", ',\n",
       " '            \"network\", ',\n",
       " '            \"virtual\"',\n",
       " '        ], ',\n",
       " '        \"ansible_hostname\": \"aur120\", ',\n",
       " '        \"ansible_interfaces\": [',\n",
       " '            \"lo\", ',\n",
       " '            \"eno16777728\"',\n",
       " '        ], ',\n",
       " '        \"ansible_kernel\": \"3.10.0-327.el7.x86_64\", ',\n",
       " '        \"ansible_lo\": {',\n",
       " '            \"active\": true, ',\n",
       " '            \"device\": \"lo\", ',\n",
       " '            \"features\": {',\n",
       " '                \"busy_poll\": \"off [fixed]\", ',\n",
       " '                \"fcoe_mtu\": \"off [fixed]\", ',\n",
       " '                \"generic_receive_offload\": \"on\", ',\n",
       " '                \"generic_segmentation_offload\": \"on\", ',\n",
       " '                \"highdma\": \"on [fixed]\", ',\n",
       " '                \"large_receive_offload\": \"off [fixed]\", ',\n",
       " '                \"loopback\": \"on [fixed]\", ',\n",
       " '                \"netns_local\": \"on [fixed]\", ',\n",
       " '                \"ntuple_filters\": \"off [fixed]\", ',\n",
       " '                \"receive_hashing\": \"off [fixed]\", ',\n",
       " '                \"rx_all\": \"off [fixed]\", ',\n",
       " '                \"rx_checksumming\": \"on [fixed]\", ',\n",
       " '                \"rx_fcs\": \"off [fixed]\", ',\n",
       " '                \"rx_vlan_filter\": \"off [fixed]\", ',\n",
       " '                \"rx_vlan_offload\": \"off [fixed]\", ',\n",
       " '                \"rx_vlan_stag_filter\": \"off [fixed]\", ',\n",
       " '                \"rx_vlan_stag_hw_parse\": \"off [fixed]\", ',\n",
       " '                \"scatter_gather\": \"on\", ',\n",
       " '                \"tcp_segmentation_offload\": \"on\", ',\n",
       " '                \"tx_checksum_fcoe_crc\": \"off [fixed]\", ',\n",
       " '                \"tx_checksum_ip_generic\": \"on [fixed]\", ',\n",
       " '                \"tx_checksum_ipv4\": \"off [fixed]\", ',\n",
       " '                \"tx_checksum_ipv6\": \"off [fixed]\", ',\n",
       " '                \"tx_checksum_sctp\": \"off [fixed]\", ',\n",
       " '                \"tx_checksumming\": \"on\", ',\n",
       " '                \"tx_fcoe_segmentation\": \"off [fixed]\", ',\n",
       " '                \"tx_gre_segmentation\": \"off [fixed]\", ',\n",
       " '                \"tx_gso_robust\": \"off [fixed]\", ',\n",
       " '                \"tx_ipip_segmentation\": \"off [fixed]\", ',\n",
       " '                \"tx_lockless\": \"on [fixed]\", ',\n",
       " '                \"tx_mpls_segmentation\": \"off [fixed]\", ',\n",
       " '                \"tx_nocache_copy\": \"off [fixed]\", ',\n",
       " '                \"tx_scatter_gather\": \"on [fixed]\", ',\n",
       " '                \"tx_scatter_gather_fraglist\": \"on [fixed]\", ',\n",
       " '                \"tx_sit_segmentation\": \"off [fixed]\", ',\n",
       " '                \"tx_tcp6_segmentation\": \"on\", ',\n",
       " '                \"tx_tcp_ecn_segmentation\": \"on\", ',\n",
       " '                \"tx_tcp_segmentation\": \"on\", ',\n",
       " '                \"tx_udp_tnl_segmentation\": \"off [fixed]\", ',\n",
       " '                \"tx_vlan_offload\": \"off [fixed]\", ',\n",
       " '                \"tx_vlan_stag_hw_insert\": \"off [fixed]\", ',\n",
       " '                \"udp_fragmentation_offload\": \"on\", ',\n",
       " '                \"vlan_challenged\": \"on [fixed]\"',\n",
       " '            }, ',\n",
       " '            \"ipv4\": {',\n",
       " '                \"address\": \"127.0.0.1\", ',\n",
       " '                \"broadcast\": \"host\", ',\n",
       " '                \"netmask\": \"255.0.0.0\", ',\n",
       " '                \"network\": \"127.0.0.0\"',\n",
       " '            }, ',\n",
       " '            \"ipv6\": [',\n",
       " '                {',\n",
       " '                    \"address\": \"::1\", ',\n",
       " '                    \"prefix\": \"128\", ',\n",
       " '                    \"scope\": \"host\"',\n",
       " '                }',\n",
       " '            ], ',\n",
       " '            \"mtu\": 65536, ',\n",
       " '            \"promisc\": false, ',\n",
       " '            \"type\": \"loopback\"',\n",
       " '        }, ',\n",
       " '        \"ansible_machine\": \"x86_64\", ',\n",
       " '        \"ansible_machine_id\": \"f2d4b262bdf3445eb87117eed54f61b2\", ',\n",
       " '        \"ansible_memfree_mb\": 352, ',\n",
       " '        \"ansible_memory_mb\": {',\n",
       " '            \"nocache\": {',\n",
       " '                \"free\": 1490, ',\n",
       " '                \"used\": 334',\n",
       " '            }, ',\n",
       " '            \"real\": {',\n",
       " '                \"free\": 352, ',\n",
       " '                \"total\": 1824, ',\n",
       " '                \"used\": 1472',\n",
       " '            }, ',\n",
       " '            \"swap\": {',\n",
       " '                \"cached\": 0, ',\n",
       " '                \"free\": 1639, ',\n",
       " '                \"total\": 1639, ',\n",
       " '                \"used\": 0',\n",
       " '            }',\n",
       " '        }, ',\n",
       " '        \"ansible_memtotal_mb\": 1824, ',\n",
       " '        \"ansible_mounts\": [',\n",
       " '            {',\n",
       " '                \"device\": \"/dev/mapper/centos-root\", ',\n",
       " '                \"fstype\": \"xfs\", ',\n",
       " '                \"mount\": \"/\", ',\n",
       " '                \"options\": \"rw,seclabel,relatime,attr2,inode64,noquota\", ',\n",
       " '                \"size_available\": 13289271296, ',\n",
       " '                \"size_total\": 14879293440, ',\n",
       " '                \"uuid\": \"9c090616-0a3b-4c2b-9ed0-6da15cbdcf0b\"',\n",
       " '            }, ',\n",
       " '            {',\n",
       " '                \"device\": \"/dev/sda1\", ',\n",
       " '                \"fstype\": \"xfs\", ',\n",
       " '                \"mount\": \"/boot\", ',\n",
       " '                \"options\": \"rw,seclabel,relatime,attr2,inode64,noquota\", ',\n",
       " '                \"size_available\": 359673856, ',\n",
       " '                \"size_total\": 520794112, ',\n",
       " '                \"uuid\": \"e35ce880-7993-481c-a2eb-63c7bbf64709\"',\n",
       " '            }',\n",
       " '        ], ',\n",
       " '        \"ansible_nodename\": \"aur120.letc.chrsclrk.com\", ',\n",
       " '        \"ansible_os_family\": \"RedHat\", ',\n",
       " '        \"ansible_pkg_mgr\": \"yum\", ',\n",
       " '        \"ansible_processor\": [',\n",
       " '            \"GenuineIntel\", ',\n",
       " '            \"Intel(R) Core(TM) i7-3720QM CPU @ 2.60GHz\"',\n",
       " '        ], ',\n",
       " '        \"ansible_processor_cores\": 1, ',\n",
       " '        \"ansible_processor_count\": 1, ',\n",
       " '        \"ansible_processor_threads_per_core\": 1, ',\n",
       " '        \"ansible_processor_vcpus\": 1, ',\n",
       " '        \"ansible_product_name\": \"VMware Virtual Platform\", ',\n",
       " '        \"ansible_product_serial\": \"NA\", ',\n",
       " '        \"ansible_product_uuid\": \"NA\", ',\n",
       " '        \"ansible_product_version\": \"None\", ',\n",
       " '        \"ansible_python\": {',\n",
       " '            \"executable\": \"/usr/bin/python\", ',\n",
       " '            \"has_sslcontext\": true, ',\n",
       " '            \"type\": \"CPython\", ',\n",
       " '            \"version\": {',\n",
       " '                \"major\": 2, ',\n",
       " '                \"micro\": 5, ',\n",
       " '                \"minor\": 7, ',\n",
       " '                \"releaselevel\": \"final\", ',\n",
       " '                \"serial\": 0',\n",
       " '            }, ',\n",
       " '            \"version_info\": [',\n",
       " '                2, ',\n",
       " '                7, ',\n",
       " '                5, ',\n",
       " '                \"final\", ',\n",
       " '                0',\n",
       " '            ]',\n",
       " '        }, ',\n",
       " '        \"ansible_python_version\": \"2.7.5\", ',\n",
       " '        \"ansible_real_group_id\": 1000, ',\n",
       " '        \"ansible_real_user_id\": 1000, ',\n",
       " '        \"ansible_selinux\": {',\n",
       " '            \"config_mode\": \"enforcing\", ',\n",
       " '            \"mode\": \"enforcing\", ',\n",
       " '            \"policyvers\": 28, ',\n",
       " '            \"status\": \"enabled\", ',\n",
       " '            \"type\": \"targeted\"',\n",
       " '        }, ',\n",
       " '        \"ansible_service_mgr\": \"systemd\", ',\n",
       " '        \"ansible_ssh_host_key_ecdsa_public\": \"AAAAE2VjZHNhLXNoYTItbmlzdHAyNTYAAAAIbmlzdHAyNTYAAABBBDkC00EUayE3DkNw/bDKTF9u6zs++yIaVillVUclu0BRnNxtI+QDc4txXxrKKpQSA/a+x+1CRutCji5h61j88zY=\", ',\n",
       " '        \"ansible_ssh_host_key_ed25519_public\": \"AAAAC3NzaC1lZDI1NTE5AAAAIO9DD8DsbioEEBPVn2N7yXWd81eCDWwblCLdQFkKmAIs\", ',\n",
       " '        \"ansible_ssh_host_key_rsa_public\": \"AAAAB3NzaC1yc2EAAAADAQABAAABAQC9I5zGE7FGBbT2cMbT6mHwjtP/8Ub1vz3hY7Vk8AZ7rbxtx/8Ftq/LOTlftNKj79Q5Tb/HfuzgA6CmhGJGd+TasK8mMHl7nPf6CTM+Muzj+AWlk6NxDQmY5ciEogU1ksQ1N5m146kTHczG4I6uI+Fqyfgi0S3LnyU/O+guu/wfvmtaXOr0tjqZeqyyxS5c0VIZI4U/UeHc8nfEHb+svplmbFjJxPaj76JFMt59rNfs+Eau0Ii0pJFo3e5+jT3IrSetuegrfVc1azoWQjbuPdz6+Y3MiysQPDDv09OL+2utXSbV02WsvhWK8//6DvY5dwQex7XQkizJZIq0KFqlfwoN\", ',\n",
       " '        \"ansible_swapfree_mb\": 1639, ',\n",
       " '        \"ansible_swaptotal_mb\": 1639, ',\n",
       " '        \"ansible_system\": \"Linux\", ',\n",
       " '        \"ansible_system_capabilities\": [',\n",
       " '            \"\"',\n",
       " '        ], ',\n",
       " '        \"ansible_system_capabilities_enforced\": \"True\", ',\n",
       " '        \"ansible_system_vendor\": \"VMware, Inc.\", ',\n",
       " '        \"ansible_uptime_seconds\": 956644, ',\n",
       " '        \"ansible_user_dir\": \"/home/virtuser\", ',\n",
       " '        \"ansible_user_gecos\": \"virtuser\", ',\n",
       " '        \"ansible_user_gid\": 1000, ',\n",
       " '        \"ansible_user_id\": \"virtuser\", ',\n",
       " '        \"ansible_user_shell\": \"/bin/bash\", ',\n",
       " '        \"ansible_user_uid\": 1000, ',\n",
       " '        \"ansible_userspace_architecture\": \"x86_64\", ',\n",
       " '        \"ansible_userspace_bits\": \"64\", ',\n",
       " '        \"ansible_virtualization_role\": \"guest\", ',\n",
       " '        \"ansible_virtualization_type\": \"VMware\", ',\n",
       " '        \"module_setup\": true',\n",
       " '    }, ',\n",
       " '    \"changed\": false',\n",
       " '}']"
      ]
     },
     "execution_count": 9,
     "metadata": {},
     "output_type": "execute_result"
    }
   ],
   "source": [
    "oneSetup  # View facts from the first target machine."
   ]
  },
  {
   "cell_type": "markdown",
   "metadata": {},
   "source": [
    "### Retrieve a subset of the facts.  \n",
    "From Loren Hochsetein's page  \n",
    "[https://github.com/lorin/ansible-quickref/blob/master/facts.rst]"
   ]
  },
  {
   "cell_type": "code",
   "execution_count": 10,
   "metadata": {},
   "outputs": [
    {
     "name": "stdout",
     "output_type": "stream",
     "text": [
      "\u001b[0;32mj120 | SUCCESS => {\u001b[0m\n",
      "\u001b[0;32m    \"ansible_facts\": {\u001b[0m\n",
      "\u001b[0;32m        \"ansible_default_ipv4\": {\u001b[0m\n",
      "\u001b[0;32m            \"address\": \"10.0.0.120\", \u001b[0m\n",
      "\u001b[0;32m            \"alias\": \"eno16777728\", \u001b[0m\n",
      "\u001b[0;32m            \"broadcast\": \"10.0.0.255\", \u001b[0m\n",
      "\u001b[0;32m            \"gateway\": \"10.0.0.1\", \u001b[0m\n",
      "\u001b[0;32m            \"interface\": \"eno16777728\", \u001b[0m\n",
      "\u001b[0;32m            \"macaddress\": \"00:50:56:39:e3:48\", \u001b[0m\n",
      "\u001b[0;32m            \"mtu\": 1500, \u001b[0m\n",
      "\u001b[0;32m            \"netmask\": \"255.255.255.0\", \u001b[0m\n",
      "\u001b[0;32m            \"network\": \"10.0.0.0\", \u001b[0m\n",
      "\u001b[0;32m            \"type\": \"ether\"\u001b[0m\n",
      "\u001b[0;32m        }\u001b[0m\n",
      "\u001b[0;32m    }, \u001b[0m\n",
      "\u001b[0;32m    \"changed\": false\u001b[0m\n",
      "\u001b[0;32m}\u001b[0m\n",
      "\u001b[0;32mj123 | SUCCESS => {\u001b[0m\n",
      "\u001b[0;32m    \"ansible_facts\": {\u001b[0m\n",
      "\u001b[0;32m        \"ansible_default_ipv4\": {\u001b[0m\n",
      "\u001b[0;32m            \"address\": \"10.0.0.123\", \u001b[0m\n",
      "\u001b[0;32m            \"alias\": \"eno16777728\", \u001b[0m\n",
      "\u001b[0;32m            \"broadcast\": \"10.0.0.255\", \u001b[0m\n",
      "\u001b[0;32m            \"gateway\": \"10.0.0.1\", \u001b[0m\n",
      "\u001b[0;32m            \"interface\": \"eno16777728\", \u001b[0m\n",
      "\u001b[0;32m            \"macaddress\": \"00:50:56:38:58:34\", \u001b[0m\n",
      "\u001b[0;32m            \"mtu\": 1500, \u001b[0m\n",
      "\u001b[0;32m            \"netmask\": \"255.255.255.0\", \u001b[0m\n",
      "\u001b[0;32m            \"network\": \"10.0.0.0\", \u001b[0m\n",
      "\u001b[0;32m            \"type\": \"ether\"\u001b[0m\n",
      "\u001b[0;32m        }\u001b[0m\n",
      "\u001b[0;32m    }, \u001b[0m\n",
      "\u001b[0;32m    \"changed\": false\u001b[0m\n",
      "\u001b[0;32m}\u001b[0m\n",
      "\u001b[0;32mj122 | SUCCESS => {\u001b[0m\n",
      "\u001b[0;32m    \"ansible_facts\": {\u001b[0m\n",
      "\u001b[0;32m        \"ansible_default_ipv4\": {\u001b[0m\n",
      "\u001b[0;32m            \"address\": \"10.0.0.122\", \u001b[0m\n",
      "\u001b[0;32m            \"alias\": \"eno16777728\", \u001b[0m\n",
      "\u001b[0;32m            \"broadcast\": \"10.0.0.255\", \u001b[0m\n",
      "\u001b[0;32m            \"gateway\": \"10.0.0.1\", \u001b[0m\n",
      "\u001b[0;32m            \"interface\": \"eno16777728\", \u001b[0m\n",
      "\u001b[0;32m            \"macaddress\": \"00:50:56:2c:48:c8\", \u001b[0m\n",
      "\u001b[0;32m            \"mtu\": 1500, \u001b[0m\n",
      "\u001b[0;32m            \"netmask\": \"255.255.255.0\", \u001b[0m\n",
      "\u001b[0;32m            \"network\": \"10.0.0.0\", \u001b[0m\n",
      "\u001b[0;32m            \"type\": \"ether\"\u001b[0m\n",
      "\u001b[0;32m        }\u001b[0m\n",
      "\u001b[0;32m    }, \u001b[0m\n",
      "\u001b[0;32m    \"changed\": false\u001b[0m\n",
      "\u001b[0;32m}\u001b[0m\n"
     ]
    }
   ],
   "source": [
    "!ansible aur --inventory=controlMachine/inventory.ini --module-name=setup --args='filter=ansible_default_ipv4'"
   ]
  },
  {
   "cell_type": "markdown",
   "metadata": {},
   "source": [
    "### Report the target machines' date for rough idea of time synchrony.  \n",
    "From the control machine, Ansible concurrently accesses the target machines.  \n",
    "This example shows the three target machines are within a 100 milliseconds of each other."
   ]
  },
  {
   "cell_type": "code",
   "execution_count": 11,
   "metadata": {},
   "outputs": [
    {
     "name": "stdout",
     "output_type": "stream",
     "text": [
      "\u001b[0;32mj122 | SUCCESS | rc=0 >>\u001b[0m\n",
      "\u001b[0;32m2017-09-11 17:59:25.762228702+00:00\u001b[0m\n",
      "\u001b[0;32m\u001b[0m\n",
      "\u001b[0;32mj120 | SUCCESS | rc=0 >>\u001b[0m\n",
      "\u001b[0;32m2017-09-11 17:59:25.772023752+00:00\u001b[0m\n",
      "\u001b[0;32m\u001b[0m\n",
      "\u001b[0;32mj123 | SUCCESS | rc=0 >>\u001b[0m\n",
      "\u001b[0;32m2017-09-11 17:59:25.791579559+00:00\u001b[0m\n",
      "\u001b[0;32m\u001b[0m\n"
     ]
    }
   ],
   "source": [
    "    !ansible aur --inventory=controlMachine/inventory.ini --module-name=shell --args=\"date --rfc-3339=ns\""
   ]
  },
  {
   "cell_type": "markdown",
   "metadata": {},
   "source": [
    "### Results from piping commands on the remote machines.  \n",
    "Three commands on the target host to yield an IPv4 address of a network device.  \n",
    "(CentOS uses the “[Predictable Network Interface Names](https://www.freedesktop.org/wiki/Software/systemd/PredictableNetworkInterfaceNames/)” convention.)"
   ]
  },
  {
   "cell_type": "code",
   "execution_count": 12,
   "metadata": {},
   "outputs": [
    {
     "name": "stdout",
     "output_type": "stream",
     "text": [
      "\u001b[0;32mj120 | SUCCESS | rc=0 >>\u001b[0m\n",
      "\u001b[0;32m10.0.0.120/24\u001b[0m\n",
      "\u001b[0;32m\u001b[0m\n",
      "\u001b[0;32mj122 | SUCCESS | rc=0 >>\u001b[0m\n",
      "\u001b[0;32m10.0.0.122/24\u001b[0m\n",
      "\u001b[0;32m\u001b[0m\n",
      "\u001b[0;32mj123 | SUCCESS | rc=0 >>\u001b[0m\n",
      "\u001b[0;32m10.0.0.123/24\u001b[0m\n",
      "\u001b[0;32m\u001b[0m\n"
     ]
    }
   ],
   "source": [
    "   !ansible aur --inventory=controlMachine/inventory.ini --module-name=shell --args=\"/usr/sbin/ip -4 addr show eno16777728 | sed -n '2p' | cut  -d ' ' -f 6\""
   ]
  },
  {
   "cell_type": "markdown",
   "metadata": {},
   "source": [
    "## Ansible Playbooks  \n",
    "One playbook with one task and three debug statments concerning the network adapater Ansible is using by default.\"  \n",
    "Ansible's `debug` module is used to\n",
    "*  print the IPv4 address\n",
    "*  print the MAC address\n",
    "*  print the IPv4 and MAC address togehter on one line\n"
   ]
  },
  {
   "cell_type": "code",
   "execution_count": 13,
   "metadata": {},
   "outputs": [
    {
     "name": "stdout",
     "output_type": "stream",
     "text": [
      "     1\t- name: For the default IPv4 adpater, show IP separate from MAC, then IPv4 and MAC on the same line.\r\n",
      "     2\t  hosts: aur\r\n",
      "     3\t  gather_facts: True\r\n",
      "     4\t  tasks:\r\n",
      "     5\t    - debug: var=ansible_default_ipv4.address\r\n",
      "     6\t    - debug: var=ansible_default_ipv4.macaddress\r\n",
      "     7\t    - debug: msg=\" ip:mac {{ ansible_default_ipv4.address }} ':' {{ ansible_default_ipv4.macaddress }}\""
     ]
    }
   ],
   "source": [
    "! nl playbooks/ch04-98_facts_ip-mac.yaml"
   ]
  },
  {
   "cell_type": "code",
   "execution_count": 14,
   "metadata": {},
   "outputs": [
    {
     "name": "stdout",
     "output_type": "stream",
     "text": [
      "Using /Users/chrsclrk/.ansible.cfg as config file\n",
      "\n",
      "PLAY [For the default IPv4 adpater, show IP separate from MAC, then IPv4 and MAC on the same line.] ***\n",
      "\n",
      "TASK [Gathering Facts] *********************************************************\n",
      "\u001b[0;32mok: [j120]\u001b[0m\n",
      "\u001b[0;32mok: [j122]\u001b[0m\n",
      "\u001b[0;32mok: [j123]\u001b[0m\n",
      "\n",
      "TASK [debug] *******************************************************************\n",
      "\u001b[0;32mok: [j120] => {\u001b[0m\n",
      "\u001b[0;32m    \"ansible_default_ipv4.address\": \"10.0.0.120\"\u001b[0m\n",
      "\u001b[0;32m}\u001b[0m\n",
      "\u001b[0;32mok: [j122] => {\u001b[0m\n",
      "\u001b[0;32m    \"ansible_default_ipv4.address\": \"10.0.0.122\"\u001b[0m\n",
      "\u001b[0;32m}\u001b[0m\n",
      "\u001b[0;32mok: [j123] => {\u001b[0m\n",
      "\u001b[0;32m    \"ansible_default_ipv4.address\": \"10.0.0.123\"\u001b[0m\n",
      "\u001b[0;32m}\u001b[0m\n",
      "\n",
      "TASK [debug] *******************************************************************\n",
      "\u001b[0;32mok: [j120] => {\u001b[0m\n",
      "\u001b[0;32m    \"ansible_default_ipv4.macaddress\": \"00:50:56:39:e3:48\"\u001b[0m\n",
      "\u001b[0;32m}\u001b[0m\n",
      "\u001b[0;32mok: [j122] => {\u001b[0m\n",
      "\u001b[0;32m    \"ansible_default_ipv4.macaddress\": \"00:50:56:2c:48:c8\"\u001b[0m\n",
      "\u001b[0;32m}\u001b[0m\n",
      "\u001b[0;32mok: [j123] => {\u001b[0m\n",
      "\u001b[0;32m    \"ansible_default_ipv4.macaddress\": \"00:50:56:38:58:34\"\u001b[0m\n",
      "\u001b[0;32m}\u001b[0m\n",
      "\n",
      "TASK [debug] *******************************************************************\n",
      "\u001b[0;32mok: [j120] => {\u001b[0m\n",
      "\u001b[0;32m    \"msg\": \" ip:mac 10.0.0.120 ':' 00:50:56:39:e3:48\"\u001b[0m\n",
      "\u001b[0;32m}\u001b[0m\n",
      "\u001b[0;32mok: [j122] => {\u001b[0m\n",
      "\u001b[0;32m    \"msg\": \" ip:mac 10.0.0.122 ':' 00:50:56:2c:48:c8\"\u001b[0m\n",
      "\u001b[0;32m}\u001b[0m\n",
      "\u001b[0;32mok: [j123] => {\u001b[0m\n",
      "\u001b[0;32m    \"msg\": \" ip:mac 10.0.0.123 ':' 00:50:56:38:58:34\"\u001b[0m\n",
      "\u001b[0;32m}\u001b[0m\n",
      "\n",
      "PLAY RECAP *********************************************************************\n",
      "\u001b[0;32mj120\u001b[0m                       : \u001b[0;32mok=4   \u001b[0m changed=0    unreachable=0    failed=0   \n",
      "\u001b[0;32mj122\u001b[0m                       : \u001b[0;32mok=4   \u001b[0m changed=0    unreachable=0    failed=0   \n",
      "\u001b[0;32mj123\u001b[0m                       : \u001b[0;32mok=4   \u001b[0m changed=0    unreachable=0    failed=0   \n",
      "\n"
     ]
    }
   ],
   "source": [
    "! ansible-playbook --verbose --inventory=controlMachine/inventory.ini --become playbooks/ch04-98_facts_ip-mac.yaml"
   ]
  },
  {
   "cell_type": "code",
   "execution_count": null,
   "metadata": {
    "collapsed": true
   },
   "outputs": [],
   "source": []
  }
 ],
 "metadata": {
  "kernelspec": {
   "display_name": "Python 3",
   "language": "python",
   "name": "python3"
  },
  "language_info": {
   "codemirror_mode": {
    "name": "ipython",
    "version": 3
   },
   "file_extension": ".py",
   "mimetype": "text/x-python",
   "name": "python",
   "nbconvert_exporter": "python",
   "pygments_lexer": "ipython3",
   "version": "3.6.0"
  }
 },
 "nbformat": 4,
 "nbformat_minor": 2
}
